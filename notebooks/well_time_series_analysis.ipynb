{
 "cells": [
  {
   "cell_type": "markdown",
   "metadata": {},
   "source": [
    "# Well Time Series Analysis\n",
    "\n",
    "This notebook manages the workflow for analyzing and predicting well sensor data using our LSTM-based model."
   ]
  },
  {
   "cell_type": "code",
   "execution_count": null,
   "metadata": {},
   "source": [
    "# Import required libraries\n",
    "import sys\n",
    "sys.path.append('..')\n",
    "\n",
    "import pandas as pd\n",
    "import numpy as np\n",
    "import torch\n",
    "import matplotlib.pyplot as plt\n",
    "import seaborn as sns\n",
    "import json\n",
    "from datetime import datetime\n",
    "\n",
    "# Import our custom modules\n",
    "from src.models.well_ts_model import WellTimeSeriesModel\n",
    "from src.utils.data_processor import prepare_dataloader, WellTimeSeriesDataset\n",
    "from src.train import train_model, load_config\n",
    "\n",
    "# Set plotting style\n",
    "plt.style.use('seaborn')\n",
    "%matplotlib inline"
   ]
  },
  {
   "cell_type": "markdown",
   "metadata": {},
   "source": [
    "## 1. Data Loading and Preprocessing\n",
    "\n",
    "Load the time series data from well sensors and the configuration for tag aliases."
   ]
  },
  {
   "cell_type": "code",
   "execution_count": null,
   "metadata": {},
   "source": [
    "# Load your time series data\n",
    "# Modify the path to your data file\n",
    "data_path = '../data/well_sensor_data.csv'  # Update this path\n",
    "config_path = '../data/tag_config.json'     # Update this path\n",
    "\n",
    "# Load data\n",
    "try:\n",
    "    data = pd.read_csv(data_path)\n",
    "    print(\"Data shape:\", data.shape)\n",
    "    print(\"\\nColumns:\", data.columns.tolist())\n",
    "    print(\"\\nSample data:\")\n",
    "    display(data.head())\n",
    "except FileNotFoundError:\n",
    "    print(f\"Please place your data file at {data_path}\")\n",
    "\n",
    "# Load configuration\n",
    "try:\n",
    "    config = load_config(config_path)\n",
    "    print(\"\\nLoaded tag configuration:\")\n",
    "    print(json.dumps(config, indent=2))\n",
    "except FileNotFoundError:\n",
    "    print(f\"Please place your configuration file at {config_path}\")"
   ]
  },
  {
   "cell_type": "markdown",
   "metadata": {},
   "source": [
    "## 2. Data Visualization and Analysis"
   ]
  },
  {
   "cell_type": "code",
   "execution_count": null,
   "metadata": {},
   "source": [
    "def plot_time_series(data, columns, figsize=(15, 8)):\n",
    "    \"\"\"Plot time series data for specified columns\"\"\"\n",
    "    plt.figure(figsize=figsize)\n",
    "    for col in columns:\n",
    "        plt.plot(data[col], label=col)\n",
    "    plt.legend()\n",
    "    plt.title('Time Series Data')\n",
    "    plt.xlabel('Time Steps')\n",
    "    plt.ylabel('Value')\n",
    "    plt.show()\n",
    "\n",
    "# Plot your sensor data\n",
    "# Modify the columns list based on your actual data columns\n",
    "sensor_columns = ['pressure', 'temperature', 'vibration', 'depth']  # Update these\n",
    "try:\n",
    "    plot_time_series(data, sensor_columns)\n",
    "except NameError:\n",
    "    print(\"Please load the data first\")"
   ]
  },
  {
   "cell_type": "markdown",
   "metadata": {},
   "source": [
    "## 3. Model Training"
   ]
  },
  {
   "cell_type": "code",
   "execution_count": null,
   "metadata": {},
   "source": [
    "# Set training parameters\n",
    "params = {\n",
    "    'epochs': 100,\n",
    "    'batch_size': 32,\n",
    "    'sequence_length': 24,  # 24 time steps for prediction\n",
    "    'model_save_path': '../models/well_ts_model.pth'\n",
    "}\n",
    "\n",
    "# Train the model\n",
    "try:\n",
    "    model = train_model(\n",
    "        train_data=data,\n",
    "        config_data=config,\n",
    "        **params\n",
    "    )\n",
    "    print(\"\\nModel training complete!\")\n",
    "except NameError:\n",
    "    print(\"Please load the data and configuration first\")"
   ]
  },
  {
   "cell_type": "markdown",
   "metadata": {},
   "source": [
    "## 4. Model Evaluation and Prediction"
   ]
  },
  {
   "cell_type": "code",
   "execution_count": null,
   "metadata": {},
   "source": [
    "def make_predictions(model, data, sequence_length=24):\n",
    "    \"\"\"Generate predictions using the trained model\"\"\"\n",
    "    model.eval()\n",
    "    dataset = WellTimeSeriesDataset(data, sequence_length=sequence_length)\n",
    "    loader = prepare_dataloader(data, batch_size=1, sequence_length=sequence_length)\n",
    "    \n",
    "    predictions = []\n",
    "    with torch.no_grad():\n",
    "        for batch_data, _ in loader:\n",
    "            output = model(batch_data)\n",
    "            predictions.append(output.numpy())\n",
    "    \n",
    "    return np.vstack(predictions)\n",
    "\n",
    "# Make predictions\n",
    "try:\n",
    "    predictions = make_predictions(model, data)\n",
    "    print(\"Generated predictions shape:\", predictions.shape)\n",
    "    \n",
    "    # Plot actual vs predicted values\n",
    "    plt.figure(figsize=(15, 8))\n",
    "    for i, col in enumerate(sensor_columns):\n",
    "        plt.subplot(len(sensor_columns), 1, i+1)\n",
    "        plt.plot(data[col].iloc[params['sequence_length']:], label='Actual')\n",
    "        plt.plot(predictions[:, i], label='Predicted')\n",
    "        plt.title(f'{col} - Actual vs Predicted')\n",
    "        plt.legend()\n",
    "    plt.tight_layout()\n",
    "    plt.show()\n",
    "except NameError:\n",
    "    print(\"Please train the model first\")"
   ]
  }
 ],
 "metadata": {
  "kernelspec": {
   "display_name": "Well Time Series Environment",
   "language": "python",
   "name": "well_ts_env"
  },
  "language_info": {
   "codemirror_mode": {
    "name": "ipython",
    "version": 3
   },
   "file_extension": ".py",
   "mimetype": "text/x-python",
   "name": "python",
   "nbconvert_exporter": "python",
   "pygments_lexer": "ipython3",
   "version": "3.8.0"
  }
 },
 "nbformat": 4,
 "nbformat_minor": 4
} 
